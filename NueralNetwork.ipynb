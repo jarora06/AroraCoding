{
 "cells": [
  {
   "cell_type": "code",
   "execution_count": 3,
   "id": "d2de06bf",
   "metadata": {},
   "outputs": [
    {
     "name": "stdout",
     "output_type": "stream",
     "text": [
      "Epoch 1/5\n",
      "1875/1875 [==============================] - 2s 792us/step - loss: 0.2966 - accuracy: 0.9130\n",
      "Epoch 2/5\n",
      "1875/1875 [==============================] - 1s 761us/step - loss: 0.1447 - accuracy: 0.9570\n",
      "Epoch 3/5\n",
      "1875/1875 [==============================] - 1s 760us/step - loss: 0.1066 - accuracy: 0.9682\n",
      "Epoch 4/5\n",
      "1875/1875 [==============================] - 1s 759us/step - loss: 0.0867 - accuracy: 0.9734\n",
      "Epoch 5/5\n",
      "1875/1875 [==============================] - 1s 761us/step - loss: 0.0737 - accuracy: 0.9766\n",
      "313/313 [==============================] - 0s 531us/step - loss: 0.0724 - accuracy: 0.9778\n",
      "Test accuracy: 0.9778000116348267\n",
      "1/1 [==============================] - 0s 28ms/step\n",
      "[[8.1000762e-09 5.7790256e-08 2.1427206e-06 1.1696761e-04 1.0520117e-11\n",
      "  1.2551042e-06 2.0639772e-12 9.9986756e-01 4.3620233e-07 1.1655498e-05]\n",
      " [4.2072305e-08 1.8306628e-04 9.9978930e-01 1.8565332e-05 9.4391361e-15\n",
      "  6.8535282e-06 1.6644864e-06 2.3125490e-13 4.2030857e-07 9.6008881e-14]\n",
      " [9.7911516e-07 9.9876654e-01 1.2475095e-04 8.8133220e-06 5.5698722e-05\n",
      "  1.6411164e-05 3.1188305e-05 4.6790397e-04 5.2652555e-04 1.1717154e-06]\n",
      " [9.7575480e-01 2.4654889e-06 1.0595708e-02 1.6511936e-05 2.5788820e-04\n",
      "  2.0314725e-04 2.2072867e-03 1.0900524e-02 6.6433716e-07 6.1022980e-05]\n",
      " [3.6462422e-06 2.3665535e-08 3.2179573e-06 2.1096966e-07 9.9830198e-01\n",
      "  3.2477567e-07 6.5322860e-07 6.0958544e-05 3.1967400e-07 1.6285318e-03]]\n"
     ]
    }
   ],
   "source": [
    "import tensorflow as tf\n",
    "from tensorflow.keras import layers, models\n",
    "from tensorflow.keras.datasets import mnist\n",
    "\n",
    "# Load and Preprocess Data\n",
    "(train_images, train_labels), (test_images, test_labels) = mnist.load_data()\n",
    "train_images, test_images = train_images / 255.0, test_images / 255.0\n",
    "\n",
    "# Build the Neural Network Model\n",
    "model = models.Sequential()\n",
    "model.add(layers.Flatten(input_shape=(28, 28)))\n",
    "model.add(layers.Dense(128, activation='relu'))\n",
    "model.add(layers.Dropout(0.2))\n",
    "model.add(layers.Dense(10, activation='softmax'))\n",
    "\n",
    "# Compile the Model\n",
    "model.compile(optimizer='adam',\n",
    "              loss='sparse_categorical_crossentropy',\n",
    "              metrics=['accuracy'])\n",
    "\n",
    "# Train the Model\n",
    "model.fit(train_images, train_labels, epochs=5)\n",
    "\n",
    "# Evaluate the Model\n",
    "test_loss, test_acc = model.evaluate(test_images, test_labels)\n",
    "print(f'Test accuracy: {test_acc}')\n",
    "\n",
    "# Make Predictions\n",
    "predictions = model.predict(test_images[:5])\n",
    "print(predictions)\n",
    "\n",
    "# Save and Load the Model (Recommended Format)\n",
    "model.save('mnist_model.keras')\n",
    "# To load the model:\n",
    "# loaded_model = models.load_model('mnist_model.keras')\n",
    "\n"
   ]
  },
  {
   "cell_type": "code",
   "execution_count": null,
   "id": "15573c58",
   "metadata": {},
   "outputs": [],
   "source": []
  }
 ],
 "metadata": {
  "kernelspec": {
   "display_name": "Python 3 (ipykernel)",
   "language": "python",
   "name": "python3"
  },
  "language_info": {
   "codemirror_mode": {
    "name": "ipython",
    "version": 3
   },
   "file_extension": ".py",
   "mimetype": "text/x-python",
   "name": "python",
   "nbconvert_exporter": "python",
   "pygments_lexer": "ipython3",
   "version": "3.11.4"
  }
 },
 "nbformat": 4,
 "nbformat_minor": 5
}
